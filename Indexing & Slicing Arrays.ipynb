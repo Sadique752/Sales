{
 "cells": [
  {
   "cell_type": "code",
   "execution_count": 6,
   "id": "885fca71-5026-4e73-8e3d-026a520eac73",
   "metadata": {},
   "outputs": [],
   "source": [
    "import numpy as np"
   ]
  },
  {
   "cell_type": "code",
   "execution_count": 10,
   "id": "a652db65-e58b-4cb7-8a30-2cd15ffd08c4",
   "metadata": {},
   "outputs": [],
   "source": [
    "integer_array = np.arange(12)"
   ]
  },
  {
   "cell_type": "code",
   "execution_count": 12,
   "id": "3452197b-e967-4a79-97e1-470f7c87c9ba",
   "metadata": {},
   "outputs": [
    {
     "data": {
      "text/plain": [
       "array([ 0,  1,  2,  3,  4,  5,  6,  7,  8,  9, 10, 11])"
      ]
     },
     "execution_count": 12,
     "metadata": {},
     "output_type": "execute_result"
    }
   ],
   "source": [
    "integer_array"
   ]
  },
  {
   "cell_type": "code",
   "execution_count": 14,
   "id": "78e92d69-c9e1-4350-a54a-44c6aa41650b",
   "metadata": {},
   "outputs": [
    {
     "data": {
      "text/plain": [
       "1"
      ]
     },
     "execution_count": 14,
     "metadata": {},
     "output_type": "execute_result"
    }
   ],
   "source": [
    "integer_array[1]"
   ]
  },
  {
   "cell_type": "code",
   "execution_count": 22,
   "id": "7095760d-2623-44d7-8103-26a7caaf31e1",
   "metadata": {},
   "outputs": [
    {
     "data": {
      "text/plain": [
       "10"
      ]
     },
     "execution_count": 22,
     "metadata": {},
     "output_type": "execute_result"
    }
   ],
   "source": [
    "integer_array[-2]"
   ]
  },
  {
   "cell_type": "code",
   "execution_count": 24,
   "id": "c60744c7-7100-45f1-ba0b-ade662b4b9a5",
   "metadata": {},
   "outputs": [
    {
     "data": {
      "text/plain": [
       "array([0, 1, 2, 3, 4])"
      ]
     },
     "execution_count": 24,
     "metadata": {},
     "output_type": "execute_result"
    }
   ],
   "source": [
    "integer_array[:5]"
   ]
  },
  {
   "cell_type": "code",
   "execution_count": 28,
   "id": "11d21d6e-d559-45a0-9d27-b270208285c8",
   "metadata": {},
   "outputs": [
    {
     "data": {
      "text/plain": [
       "array([ 0,  1,  2,  3,  4,  5,  6,  7,  8,  9, 10, 11])"
      ]
     },
     "execution_count": 28,
     "metadata": {},
     "output_type": "execute_result"
    }
   ],
   "source": [
    "integer_array[:]"
   ]
  },
  {
   "cell_type": "code",
   "execution_count": 30,
   "id": "ba7effa3-afa1-40ea-a380-f5ea6de2ee75",
   "metadata": {},
   "outputs": [
    {
     "data": {
      "text/plain": [
       "array([ 0,  2,  4,  6,  8, 10])"
      ]
     },
     "execution_count": 30,
     "metadata": {},
     "output_type": "execute_result"
    }
   ],
   "source": [
    "integer_array[::2]"
   ]
  },
  {
   "cell_type": "code",
   "execution_count": 34,
   "id": "3c74e8b7-385d-48d7-8d05-16a0c50b7de6",
   "metadata": {},
   "outputs": [],
   "source": [
    "new_array = integer_array.reshape(3,4)"
   ]
  },
  {
   "cell_type": "code",
   "execution_count": 36,
   "id": "d5db7ce9-13d5-4be5-ad5a-d3571f69e1c1",
   "metadata": {},
   "outputs": [
    {
     "data": {
      "text/plain": [
       "array([[ 0,  1,  2,  3],\n",
       "       [ 4,  5,  6,  7],\n",
       "       [ 8,  9, 10, 11]])"
      ]
     },
     "execution_count": 36,
     "metadata": {},
     "output_type": "execute_result"
    }
   ],
   "source": [
    "new_array"
   ]
  },
  {
   "cell_type": "code",
   "execution_count": 38,
   "id": "be07895c-7d84-4e47-85ce-406d433e9b91",
   "metadata": {},
   "outputs": [
    {
     "data": {
      "text/plain": [
       "array([[ 0,  1,  2,  3],\n",
       "       [ 4,  5,  6,  7],\n",
       "       [ 8,  9, 10, 11]])"
      ]
     },
     "execution_count": 38,
     "metadata": {},
     "output_type": "execute_result"
    }
   ],
   "source": [
    "new_array[:,:]"
   ]
  },
  {
   "cell_type": "code",
   "execution_count": 40,
   "id": "7898d0c9-513a-49fb-8180-9bc99f5f9100",
   "metadata": {},
   "outputs": [
    {
     "data": {
      "text/plain": [
       "array([[ 0,  1,  2,  3],\n",
       "       [ 4,  5,  6,  7],\n",
       "       [ 8,  9, 10, 11]])"
      ]
     },
     "execution_count": 40,
     "metadata": {},
     "output_type": "execute_result"
    }
   ],
   "source": [
    "new_array[::]"
   ]
  },
  {
   "cell_type": "code",
   "execution_count": 42,
   "id": "714dcd42-d59a-4930-9ef7-d9c775ab5e7f",
   "metadata": {},
   "outputs": [
    {
     "data": {
      "text/plain": [
       "array([[ 4,  5,  6,  7],\n",
       "       [ 8,  9, 10, 11]])"
      ]
     },
     "execution_count": 42,
     "metadata": {},
     "output_type": "execute_result"
    }
   ],
   "source": [
    "new_array[1:,:]"
   ]
  },
  {
   "cell_type": "code",
   "execution_count": 44,
   "id": "4680a794-d223-4393-a0e2-a6f6ab2c18e2",
   "metadata": {},
   "outputs": [
    {
     "data": {
      "text/plain": [
       "array([ 3,  7, 11])"
      ]
     },
     "execution_count": 44,
     "metadata": {},
     "output_type": "execute_result"
    }
   ],
   "source": [
    "new_array[:,3]"
   ]
  },
  {
   "cell_type": "code",
   "execution_count": 46,
   "id": "4267e303-c015-4217-8965-66018ca290d5",
   "metadata": {},
   "outputs": [
    {
     "data": {
      "text/plain": [
       "array([[ 1,  2],\n",
       "       [ 5,  6],\n",
       "       [ 9, 10]])"
      ]
     },
     "execution_count": 46,
     "metadata": {},
     "output_type": "execute_result"
    }
   ],
   "source": [
    "new_array[:,1:3]"
   ]
  },
  {
   "cell_type": "code",
   "execution_count": 48,
   "id": "c44f8b06-32a9-49fe-ab6a-b6240112bc6d",
   "metadata": {},
   "outputs": [
    {
     "data": {
      "text/plain": [
       "array([[ 1,  2,  3],\n",
       "       [ 5,  6,  7],\n",
       "       [ 9, 10, 11]])"
      ]
     },
     "execution_count": 48,
     "metadata": {},
     "output_type": "execute_result"
    }
   ],
   "source": [
    "new_array[:,1:]"
   ]
  },
  {
   "cell_type": "code",
   "execution_count": 52,
   "id": "44e09f39-6f77-437d-a753-4779699b34d9",
   "metadata": {},
   "outputs": [
    {
     "data": {
      "text/plain": [
       "9"
      ]
     },
     "execution_count": 52,
     "metadata": {},
     "output_type": "execute_result"
    }
   ],
   "source": [
    "new_array[2,1]"
   ]
  },
  {
   "cell_type": "code",
   "execution_count": null,
   "id": "62eff0cc-ea16-426a-b430-4d025157d3de",
   "metadata": {},
   "outputs": [],
   "source": []
  }
 ],
 "metadata": {
  "kernelspec": {
   "display_name": "Python [conda env:base] *",
   "language": "python",
   "name": "conda-base-py"
  },
  "language_info": {
   "codemirror_mode": {
    "name": "ipython",
    "version": 3
   },
   "file_extension": ".py",
   "mimetype": "text/x-python",
   "name": "python",
   "nbconvert_exporter": "python",
   "pygments_lexer": "ipython3",
   "version": "3.12.7"
  }
 },
 "nbformat": 4,
 "nbformat_minor": 5
}

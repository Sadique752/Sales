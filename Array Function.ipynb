{
 "cells": [
  {
   "cell_type": "code",
   "execution_count": 2,
   "id": "38aaaa00-bace-4612-a5ea-3f6654a1509b",
   "metadata": {},
   "outputs": [],
   "source": [
    "import numpy as np"
   ]
  },
  {
   "cell_type": "code",
   "execution_count": 10,
   "id": "740cbdbc-a75b-4414-bad2-d63d01bf9eb0",
   "metadata": {},
   "outputs": [
    {
     "data": {
      "text/plain": [
       "array([205.4 , 158.4 , 138.4 , 186.24,   6.24, 210.93, 106.44,   3.68,\n",
       "        26.15, 403.2 ])"
      ]
     },
     "execution_count": 10,
     "metadata": {},
     "output_type": "execute_result"
    }
   ],
   "source": [
    "price = np.array([2.6, 7.2, 6.92, 3.88, 0.78, 2.67, 8.87, 0.23, 5.23, 6.3])\n",
    "\n",
    "inventory = np.array([79, 22, 20 ,48, 8, 79, 12, 16, 5, 64])\n",
    "\n",
    "product_value = price * inventory\n",
    "\n",
    "product_value"
   ]
  },
  {
   "cell_type": "code",
   "execution_count": 12,
   "id": "0fa4d113-7884-47af-b058-5108cd899e5b",
   "metadata": {},
   "outputs": [
    {
     "data": {
      "text/plain": [
       "array([  3.68,   6.24,  26.15, 106.44, 138.4 , 158.4 , 186.24, 205.4 ,\n",
       "       210.93, 403.2 ])"
      ]
     },
     "execution_count": 12,
     "metadata": {},
     "output_type": "execute_result"
    }
   ],
   "source": [
    "product_value.sort()\n",
    "\n",
    "product_value"
   ]
  },
  {
   "cell_type": "code",
   "execution_count": 26,
   "id": "7ebeec4e-be5d-4a62-9738-c239b745a193",
   "metadata": {},
   "outputs": [
    {
     "data": {
      "text/plain": [
       "array([[  3.68,   6.24,  26.15, 106.44, 138.4 ],\n",
       "       [158.4 , 186.24, 205.4 , 210.93, 403.2 ]])"
      ]
     },
     "execution_count": 26,
     "metadata": {},
     "output_type": "execute_result"
    }
   ],
   "source": [
    "reshaped_product_value = product_value.reshape(2,5)\n",
    "\n",
    "reshaped_product_value"
   ]
  },
  {
   "cell_type": "code",
   "execution_count": 28,
   "id": "862c2e99-8c33-4ba1-93f7-6627cfabc97d",
   "metadata": {},
   "outputs": [
    {
     "data": {
      "text/plain": [
       "1445.0800000000002"
      ]
     },
     "execution_count": 28,
     "metadata": {},
     "output_type": "execute_result"
    }
   ],
   "source": [
    "reshaped_product_value.sum()"
   ]
  },
  {
   "cell_type": "code",
   "execution_count": 8,
   "id": "32ff21b7-daaa-44b4-9c6e-848f14308408",
   "metadata": {},
   "outputs": [
    {
     "data": {
      "text/plain": [
       "148.4"
      ]
     },
     "execution_count": 8,
     "metadata": {},
     "output_type": "execute_result"
    }
   ],
   "source": [
    "np.median(reshaped_product_value)"
   ]
  },
  {
   "cell_type": "code",
   "execution_count": 34,
   "id": "1a5c6b20-260f-45dc-97c3-11ea1eae56f3",
   "metadata": {},
   "outputs": [
    {
     "data": {
      "text/plain": [
       "5.984"
      ]
     },
     "execution_count": 34,
     "metadata": {},
     "output_type": "execute_result"
    }
   ],
   "source": [
    "np.percentile(reshaped_product_value, 10)"
   ]
  },
  {
   "cell_type": "code",
   "execution_count": 38,
   "id": "03a37ae3-b591-4614-85e6-c43ddce193cc",
   "metadata": {},
   "outputs": [
    {
     "data": {
      "text/plain": [
       "array([[ 1.91833261,  2.4979992 ,  5.11370707, 10.3169763 , 11.76435294],\n",
       "       [12.58570618, 13.64697769, 14.33178286, 14.52342935, 20.07984064]])"
      ]
     },
     "execution_count": 38,
     "metadata": {},
     "output_type": "execute_result"
    }
   ],
   "source": [
    "np.sqrt(reshaped_product_value)"
   ]
  },
  {
   "cell_type": "code",
   "execution_count": 42,
   "id": "2e445252-5eb7-4edc-877f-1710eb48e2a7",
   "metadata": {},
   "outputs": [
    {
     "data": {
      "text/plain": [
       "array([  3.68,   6.24,  26.15, 106.44, 138.4 , 158.4 , 186.24, 205.4 ,\n",
       "       210.93, 403.2 ])"
      ]
     },
     "execution_count": 42,
     "metadata": {},
     "output_type": "execute_result"
    }
   ],
   "source": [
    "np.unique(reshaped_product_value)"
   ]
  },
  {
   "cell_type": "code",
   "execution_count": 44,
   "id": "bd97d372-2299-4d0e-a83e-6d73c656e3a9",
   "metadata": {},
   "outputs": [
    {
     "data": {
      "text/plain": [
       "array([1.])"
      ]
     },
     "execution_count": 44,
     "metadata": {},
     "output_type": "execute_result"
    }
   ],
   "source": [
    "np.unique(np.ones(100))"
   ]
  },
  {
   "cell_type": "code",
   "execution_count": null,
   "id": "8c72056e-2c81-447e-9d27-89f003e1b5c6",
   "metadata": {},
   "outputs": [],
   "source": []
  }
 ],
 "metadata": {
  "kernelspec": {
   "display_name": "Python [conda env:base] *",
   "language": "python",
   "name": "conda-base-py"
  },
  "language_info": {
   "codemirror_mode": {
    "name": "ipython",
    "version": 3
   },
   "file_extension": ".py",
   "mimetype": "text/x-python",
   "name": "python",
   "nbconvert_exporter": "python",
   "pygments_lexer": "ipython3",
   "version": "3.12.7"
  }
 },
 "nbformat": 4,
 "nbformat_minor": 5
}

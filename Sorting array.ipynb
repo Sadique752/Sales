{
 "cells": [
  {
   "cell_type": "code",
   "execution_count": 2,
   "id": "6e59acea-44fb-4d0f-89d3-46fbb0443ef5",
   "metadata": {},
   "outputs": [],
   "source": [
    "import numpy as np"
   ]
  },
  {
   "cell_type": "code",
   "execution_count": 26,
   "id": "f693943d-2b7f-4802-841a-3471f50585f1",
   "metadata": {},
   "outputs": [
    {
     "data": {
      "text/plain": [
       "array([205.4 , 158.4 , 138.4 , 186.24,   6.24, 202.92, 106.44,   3.68,\n",
       "        26.15, 403.2 ])"
      ]
     },
     "execution_count": 26,
     "metadata": {},
     "output_type": "execute_result"
    }
   ],
   "source": [
    "product_value = np.array(\n",
    "    [205.4, 158.4, 138.4, 186.24, 6.24, 202.92, 106.44, 3.68, 26.15, 403.2]\n",
    ")\n",
    "\n",
    "product_value"
   ]
  },
  {
   "cell_type": "code",
   "execution_count": 14,
   "id": "21ae5e53-4edc-4781-9d49-13932a4192fe",
   "metadata": {},
   "outputs": [
    {
     "data": {
      "text/plain": [
       "array([  3.68,   6.24,  26.15, 106.44, 138.4 , 158.4 , 186.24, 202.92,\n",
       "       205.4 , 403.2 ])"
      ]
     },
     "execution_count": 14,
     "metadata": {},
     "output_type": "execute_result"
    }
   ],
   "source": [
    "np.sort(product_value)"
   ]
  },
  {
   "cell_type": "code",
   "execution_count": 30,
   "id": "99aa1acf-4ab8-4d13-b1e1-6559b7b9dcf5",
   "metadata": {},
   "outputs": [],
   "source": [
    "product_value.sort()"
   ]
  },
  {
   "cell_type": "code",
   "execution_count": 32,
   "id": "5ca3c8f4-b695-4389-a0ce-ed0d340ac4aa",
   "metadata": {},
   "outputs": [
    {
     "data": {
      "text/plain": [
       "array([  3.68,   6.24,  26.15, 106.44, 138.4 , 158.4 , 186.24, 202.92,\n",
       "       205.4 , 403.2 ])"
      ]
     },
     "execution_count": 32,
     "metadata": {},
     "output_type": "execute_result"
    }
   ],
   "source": [
    "product_value"
   ]
  },
  {
   "cell_type": "code",
   "execution_count": 22,
   "id": "8dc106aa-8846-466f-8a8c-6a6c93549791",
   "metadata": {},
   "outputs": [
    {
     "data": {
      "text/plain": [
       "403.2"
      ]
     },
     "execution_count": 22,
     "metadata": {},
     "output_type": "execute_result"
    }
   ],
   "source": [
    "product_value[-1]"
   ]
  },
  {
   "cell_type": "code",
   "execution_count": 24,
   "id": "5e3b6b9f-2ea0-4ef4-889e-be6f94bddff6",
   "metadata": {},
   "outputs": [
    {
     "data": {
      "text/plain": [
       "array([403.2 , 205.4 , 202.92, 186.24, 158.4 , 138.4 , 106.44,  26.15,\n",
       "         6.24,   3.68])"
      ]
     },
     "execution_count": 24,
     "metadata": {},
     "output_type": "execute_result"
    }
   ],
   "source": [
    "product_value[::-1]"
   ]
  },
  {
   "cell_type": "code",
   "execution_count": null,
   "id": "811a3538-78b9-4efc-ba28-ad995a0125c2",
   "metadata": {},
   "outputs": [],
   "source": []
  }
 ],
 "metadata": {
  "kernelspec": {
   "display_name": "Python [conda env:base] *",
   "language": "python",
   "name": "conda-base-py"
  },
  "language_info": {
   "codemirror_mode": {
    "name": "ipython",
    "version": 3
   },
   "file_extension": ".py",
   "mimetype": "text/x-python",
   "name": "python",
   "nbconvert_exporter": "python",
   "pygments_lexer": "ipython3",
   "version": "3.12.7"
  }
 },
 "nbformat": 4,
 "nbformat_minor": 5
}

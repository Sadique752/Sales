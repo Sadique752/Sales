{
 "cells": [
  {
   "cell_type": "code",
   "execution_count": 2,
   "id": "15d065ca-bcf0-485a-b57b-23776679409b",
   "metadata": {},
   "outputs": [
    {
     "data": {
      "text/plain": [
       "array([39, 39, 93, 86, 48, 46, 48, 30, 11, 57], dtype=int64)"
      ]
     },
     "execution_count": 2,
     "metadata": {},
     "output_type": "execute_result"
    }
   ],
   "source": [
    "import numpy as np\n",
    "\n",
    "rng = np.random.default_rng(616)\n",
    "\n",
    "inventory = rng.integers(0, 100,10)\n",
    "\n",
    "inventory"
   ]
  },
  {
   "cell_type": "code",
   "execution_count": 4,
   "id": "937bde81-2a8a-49f4-89dc-ac4218fc75c8",
   "metadata": {},
   "outputs": [
    {
     "data": {
      "text/plain": [
       "array([ 15,  15,  69,  62,  24,  22,  24,   6, -13,  33], dtype=int64)"
      ]
     },
     "execution_count": 4,
     "metadata": {},
     "output_type": "execute_result"
    }
   ],
   "source": [
    "inventory - 24"
   ]
  },
  {
   "cell_type": "code",
   "execution_count": 8,
   "id": "8e6c98e1-9255-4ff5-9676-39177b0611c4",
   "metadata": {},
   "outputs": [
    {
     "data": {
      "text/plain": [
       "dtype('float64')"
      ]
     },
     "execution_count": 8,
     "metadata": {},
     "output_type": "execute_result"
    }
   ],
   "source": [
    "(inventory / 2).dtype"
   ]
  },
  {
   "cell_type": "code",
   "execution_count": 16,
   "id": "41d110a6-94ff-4c51-915d-1a9539ea42ba",
   "metadata": {},
   "outputs": [
    {
     "data": {
      "text/plain": [
       "array([1.9 , 1.69, 4.74, 5.92, 4.25, 8.22, 3.8 , 0.22, 9.82, 5.5 ])"
      ]
     },
     "execution_count": 16,
     "metadata": {},
     "output_type": "execute_result"
    }
   ],
   "source": [
    "price = (rng.random(10) * 10).round(2)\n",
    "\n",
    "price"
   ]
  },
  {
   "cell_type": "code",
   "execution_count": 24,
   "id": "f4fb21f0-ca50-4b36-ae27-d5ce432af50a",
   "metadata": {},
   "outputs": [
    {
     "data": {
      "text/plain": [
       "2282.59"
      ]
     },
     "execution_count": 24,
     "metadata": {},
     "output_type": "execute_result"
    }
   ],
   "source": [
    "(price * inventory).sum()"
   ]
  },
  {
   "cell_type": "code",
   "execution_count": 26,
   "id": "8b02293c-027a-44a6-8ae8-6cef5281a68d",
   "metadata": {},
   "outputs": [],
   "source": [
    "inventory_list = list(inventory)"
   ]
  },
  {
   "cell_type": "code",
   "execution_count": 28,
   "id": "aa422192-d744-47cd-b62f-adb39242584c",
   "metadata": {},
   "outputs": [
    {
     "data": {
      "text/plain": [
       "[39, 39, 93, 86, 48, 46, 48, 30, 11, 57]"
      ]
     },
     "execution_count": 28,
     "metadata": {},
     "output_type": "execute_result"
    }
   ],
   "source": [
    "inventory_list"
   ]
  },
  {
   "cell_type": "code",
   "execution_count": 30,
   "id": "cf81bae1-356f-4846-9d74-22830d9335ff",
   "metadata": {},
   "outputs": [
    {
     "ename": "TypeError",
     "evalue": "can only concatenate list (not \"int\") to list",
     "output_type": "error",
     "traceback": [
      "\u001b[1;31m---------------------------------------------------------------------------\u001b[0m",
      "\u001b[1;31mTypeError\u001b[0m                                 Traceback (most recent call last)",
      "Cell \u001b[1;32mIn[30], line 1\u001b[0m\n\u001b[1;32m----> 1\u001b[0m inventory_list \u001b[38;5;241m+\u001b[39m \u001b[38;5;241m2\u001b[39m\n",
      "\u001b[1;31mTypeError\u001b[0m: can only concatenate list (not \"int\") to list"
     ]
    }
   ],
   "source": [
    "inventory_list + 2"
   ]
  },
  {
   "cell_type": "code",
   "execution_count": null,
   "id": "ab67d2a8-f701-4db8-9773-d99346cc2954",
   "metadata": {},
   "outputs": [],
   "source": []
  }
 ],
 "metadata": {
  "kernelspec": {
   "display_name": "Python [conda env:base] *",
   "language": "python",
   "name": "conda-base-py"
  },
  "language_info": {
   "codemirror_mode": {
    "name": "ipython",
    "version": 3
   },
   "file_extension": ".py",
   "mimetype": "text/x-python",
   "name": "python",
   "nbconvert_exporter": "python",
   "pygments_lexer": "ipython3",
   "version": "3.12.7"
  }
 },
 "nbformat": 4,
 "nbformat_minor": 5
}

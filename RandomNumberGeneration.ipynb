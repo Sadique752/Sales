{
 "cells": [
  {
   "cell_type": "code",
   "execution_count": 2,
   "id": "2149ce2a-1943-4cd2-be1d-56ed6e0b75b0",
   "metadata": {},
   "outputs": [],
   "source": [
    "import numpy as np"
   ]
  },
  {
   "cell_type": "code",
   "execution_count": 6,
   "id": "343b000b-bce8-4432-b73f-dfe5a38f85c9",
   "metadata": {},
   "outputs": [
    {
     "data": {
      "text/plain": [
       "array([0.22733602, 0.31675834, 0.79736546, 0.67625467, 0.39110955,\n",
       "       0.33281393, 0.59830875, 0.18673419, 0.67275604, 0.94180287])"
      ]
     },
     "execution_count": 6,
     "metadata": {},
     "output_type": "execute_result"
    }
   ],
   "source": [
    "rng = np.random.default_rng(12345)\n",
    "\n",
    "rng.random(10)"
   ]
  },
  {
   "cell_type": "code",
   "execution_count": 36,
   "id": "49054ad7-d910-444f-b8df-20120308bc79",
   "metadata": {},
   "outputs": [
    {
     "data": {
      "text/plain": [
       "array([0.39682145, 0.86568572, 0.46040359, 0.30599848, 0.57381588,\n",
       "       0.08888468, 0.88194347, 0.73228387, 0.73215182, 0.56233394])"
      ]
     },
     "execution_count": 36,
     "metadata": {},
     "output_type": "execute_result"
    }
   ],
   "source": [
    "rng = np.random.default_rng(616)\n",
    "\n",
    "rng.random(10)"
   ]
  },
  {
   "cell_type": "code",
   "execution_count": 43,
   "id": "06572934-4420-495d-a350-53929759c8b3",
   "metadata": {},
   "outputs": [
    {
     "data": {
      "text/plain": [
       "array([4, 2, 0, 1, 6, 5, 0, 9, 2, 5, 5, 2, 1, 8, 6, 6, 5, 4, 4, 0, 0, 1,\n",
       "       3, 8, 0, 2, 3, 5, 8, 6, 9, 8, 3, 9, 7, 1, 7, 9, 6, 4, 6, 0, 9, 8,\n",
       "       1, 2, 5, 5, 9, 8, 3, 0, 9, 8, 3, 7, 5, 6, 4, 8, 0, 8, 0, 4, 9, 0,\n",
       "       7, 7, 0, 7, 1, 5, 7, 7, 7, 8, 3, 7, 3, 8, 5, 7, 3, 1, 4, 7, 6, 7,\n",
       "       5, 9, 5, 0, 9, 1, 5, 9, 5, 8, 6, 4], dtype=int64)"
      ]
     },
     "execution_count": 43,
     "metadata": {},
     "output_type": "execute_result"
    }
   ],
   "source": [
    "rng.integers(0,10,100)"
   ]
  },
  {
   "cell_type": "code",
   "execution_count": 45,
   "id": "015d8a33-762b-497a-ba32-9aa95e674dfb",
   "metadata": {},
   "outputs": [
    {
     "data": {
      "text/plain": [
       "array([40.40326606, 49.53532289, 53.3934452 , 48.38581526, 49.86478599,\n",
       "       44.38062247, 53.06039076, 47.40586151, 47.17316538, 43.53380576])"
      ]
     },
     "execution_count": 45,
     "metadata": {},
     "output_type": "execute_result"
    }
   ],
   "source": [
    "rng.normal(50,5,10)"
   ]
  },
  {
   "cell_type": "code",
   "execution_count": null,
   "id": "ebcc1222-3825-4589-996c-d8c4e637f875",
   "metadata": {},
   "outputs": [],
   "source": []
  }
 ],
 "metadata": {
  "kernelspec": {
   "display_name": "Python [conda env:base] *",
   "language": "python",
   "name": "conda-base-py"
  },
  "language_info": {
   "codemirror_mode": {
    "name": "ipython",
    "version": 3
   },
   "file_extension": ".py",
   "mimetype": "text/x-python",
   "name": "python",
   "nbconvert_exporter": "python",
   "pygments_lexer": "ipython3",
   "version": "3.12.7"
  }
 },
 "nbformat": 4,
 "nbformat_minor": 5
}

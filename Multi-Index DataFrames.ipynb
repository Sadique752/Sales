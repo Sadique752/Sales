{
 "cells": [
  {
   "cell_type": "code",
   "execution_count": 2,
   "id": "f6b7c67c-8e81-477a-ac76-ccba9a624749",
   "metadata": {},
   "outputs": [],
   "source": [
    "import pandas as pd"
   ]
  },
  {
   "cell_type": "code",
   "execution_count": 4,
   "id": "3b666898-07a2-4e1c-a6a3-4243e97e0dfa",
   "metadata": {},
   "outputs": [],
   "source": [
    "premier_league = pd.read_excel(r'D:\\Analyst\\Python\\NumPy_&_Python\\Pandas_Course_Resources\\project_data\\premier_league_games_full.xlsx')"
   ]
  },
  {
   "cell_type": "code",
   "execution_count": 6,
   "id": "9a174e6f-9e7f-4191-a450-d243532b2443",
   "metadata": {},
   "outputs": [
    {
     "data": {
      "text/html": [
       "<div>\n",
       "<style scoped>\n",
       "    .dataframe tbody tr th:only-of-type {\n",
       "        vertical-align: middle;\n",
       "    }\n",
       "\n",
       "    .dataframe tbody tr th {\n",
       "        vertical-align: top;\n",
       "    }\n",
       "\n",
       "    .dataframe thead th {\n",
       "        text-align: right;\n",
       "    }\n",
       "</style>\n",
       "<table border=\"1\" class=\"dataframe\">\n",
       "  <thead>\n",
       "    <tr style=\"text-align: right;\">\n",
       "      <th></th>\n",
       "      <th>id</th>\n",
       "      <th>league_name</th>\n",
       "      <th>season</th>\n",
       "      <th>HomeTeam</th>\n",
       "      <th>AwayTeam</th>\n",
       "      <th>HomeGoals</th>\n",
       "      <th>AwayGoals</th>\n",
       "    </tr>\n",
       "  </thead>\n",
       "  <tbody>\n",
       "    <tr>\n",
       "      <th>0</th>\n",
       "      <td>1729</td>\n",
       "      <td>England Premier League</td>\n",
       "      <td>2008/2009</td>\n",
       "      <td>Manchester United</td>\n",
       "      <td>Newcastle United</td>\n",
       "      <td>1</td>\n",
       "      <td>1</td>\n",
       "    </tr>\n",
       "    <tr>\n",
       "      <th>1</th>\n",
       "      <td>1730</td>\n",
       "      <td>England Premier League</td>\n",
       "      <td>2008/2009</td>\n",
       "      <td>Arsenal</td>\n",
       "      <td>West Bromwich Albion</td>\n",
       "      <td>1</td>\n",
       "      <td>0</td>\n",
       "    </tr>\n",
       "    <tr>\n",
       "      <th>2</th>\n",
       "      <td>1731</td>\n",
       "      <td>England Premier League</td>\n",
       "      <td>2008/2009</td>\n",
       "      <td>Sunderland</td>\n",
       "      <td>Liverpool</td>\n",
       "      <td>0</td>\n",
       "      <td>1</td>\n",
       "    </tr>\n",
       "    <tr>\n",
       "      <th>3</th>\n",
       "      <td>1732</td>\n",
       "      <td>England Premier League</td>\n",
       "      <td>2008/2009</td>\n",
       "      <td>West Ham United</td>\n",
       "      <td>Wigan Athletic</td>\n",
       "      <td>2</td>\n",
       "      <td>1</td>\n",
       "    </tr>\n",
       "    <tr>\n",
       "      <th>4</th>\n",
       "      <td>1733</td>\n",
       "      <td>England Premier League</td>\n",
       "      <td>2008/2009</td>\n",
       "      <td>Aston Villa</td>\n",
       "      <td>Manchester City</td>\n",
       "      <td>4</td>\n",
       "      <td>2</td>\n",
       "    </tr>\n",
       "  </tbody>\n",
       "</table>\n",
       "</div>"
      ],
      "text/plain": [
       "     id             league_name     season           HomeTeam  \\\n",
       "0  1729  England Premier League  2008/2009  Manchester United   \n",
       "1  1730  England Premier League  2008/2009            Arsenal   \n",
       "2  1731  England Premier League  2008/2009         Sunderland   \n",
       "3  1732  England Premier League  2008/2009    West Ham United   \n",
       "4  1733  England Premier League  2008/2009        Aston Villa   \n",
       "\n",
       "               AwayTeam  HomeGoals  AwayGoals  \n",
       "0      Newcastle United          1          1  \n",
       "1  West Bromwich Albion          1          0  \n",
       "2             Liverpool          0          1  \n",
       "3        Wigan Athletic          2          1  \n",
       "4       Manchester City          4          2  "
      ]
     },
     "execution_count": 6,
     "metadata": {},
     "output_type": "execute_result"
    }
   ],
   "source": [
    "premier_league.head()"
   ]
  },
  {
   "cell_type": "code",
   "execution_count": 8,
   "id": "f7ba4697-22bc-45c4-b44a-a6b1c2eeebc0",
   "metadata": {},
   "outputs": [],
   "source": [
    "agg_prem_league = premier_league.groupby([\"season\", \"HomeTeam\"])[[\"HomeGoals\"]].sum()"
   ]
  },
  {
   "cell_type": "code",
   "execution_count": 18,
   "id": "56980fa9-bb07-4c67-86f0-c6eae1a4a13e",
   "metadata": {},
   "outputs": [
    {
     "data": {
      "text/html": [
       "<div>\n",
       "<style scoped>\n",
       "    .dataframe tbody tr th:only-of-type {\n",
       "        vertical-align: middle;\n",
       "    }\n",
       "\n",
       "    .dataframe tbody tr th {\n",
       "        vertical-align: top;\n",
       "    }\n",
       "\n",
       "    .dataframe thead th {\n",
       "        text-align: right;\n",
       "    }\n",
       "</style>\n",
       "<table border=\"1\" class=\"dataframe\">\n",
       "  <thead>\n",
       "    <tr style=\"text-align: right;\">\n",
       "      <th></th>\n",
       "      <th></th>\n",
       "      <th>HomeGoals</th>\n",
       "    </tr>\n",
       "    <tr>\n",
       "      <th>season</th>\n",
       "      <th>HomeTeam</th>\n",
       "      <th></th>\n",
       "    </tr>\n",
       "  </thead>\n",
       "  <tbody>\n",
       "    <tr>\n",
       "      <th rowspan=\"5\" valign=\"top\">2008/2009</th>\n",
       "      <th>Arsenal</th>\n",
       "      <td>31</td>\n",
       "    </tr>\n",
       "    <tr>\n",
       "      <th>Aston Villa</th>\n",
       "      <td>27</td>\n",
       "    </tr>\n",
       "    <tr>\n",
       "      <th>Blackburn Rovers</th>\n",
       "      <td>22</td>\n",
       "    </tr>\n",
       "    <tr>\n",
       "      <th>Bolton Wanderers</th>\n",
       "      <td>21</td>\n",
       "    </tr>\n",
       "    <tr>\n",
       "      <th>Chelsea</th>\n",
       "      <td>33</td>\n",
       "    </tr>\n",
       "  </tbody>\n",
       "</table>\n",
       "</div>"
      ],
      "text/plain": [
       "                            HomeGoals\n",
       "season    HomeTeam                   \n",
       "2008/2009 Arsenal                  31\n",
       "          Aston Villa              27\n",
       "          Blackburn Rovers         22\n",
       "          Bolton Wanderers         21\n",
       "          Chelsea                  33"
      ]
     },
     "execution_count": 18,
     "metadata": {},
     "output_type": "execute_result"
    }
   ],
   "source": [
    "agg_prem_league.head()"
   ]
  },
  {
   "cell_type": "code",
   "execution_count": 32,
   "id": "589c3cf7-37b7-43b6-9ba0-662133d50517",
   "metadata": {},
   "outputs": [
    {
     "data": {
      "text/html": [
       "<div>\n",
       "<style scoped>\n",
       "    .dataframe tbody tr th:only-of-type {\n",
       "        vertical-align: middle;\n",
       "    }\n",
       "\n",
       "    .dataframe tbody tr th {\n",
       "        vertical-align: top;\n",
       "    }\n",
       "\n",
       "    .dataframe thead th {\n",
       "        text-align: right;\n",
       "    }\n",
       "</style>\n",
       "<table border=\"1\" class=\"dataframe\">\n",
       "  <thead>\n",
       "    <tr style=\"text-align: right;\">\n",
       "      <th></th>\n",
       "      <th></th>\n",
       "      <th>HomeGoals</th>\n",
       "    </tr>\n",
       "    <tr>\n",
       "      <th>season</th>\n",
       "      <th>HomeTeam</th>\n",
       "      <th></th>\n",
       "    </tr>\n",
       "  </thead>\n",
       "  <tbody>\n",
       "    <tr>\n",
       "      <th rowspan=\"4\" valign=\"top\">2008/2009</th>\n",
       "      <th>Arsenal</th>\n",
       "      <td>31</td>\n",
       "    </tr>\n",
       "    <tr>\n",
       "      <th>Aston Villa</th>\n",
       "      <td>27</td>\n",
       "    </tr>\n",
       "    <tr>\n",
       "      <th>Blackburn Rovers</th>\n",
       "      <td>22</td>\n",
       "    </tr>\n",
       "    <tr>\n",
       "      <th>Bolton Wanderers</th>\n",
       "      <td>21</td>\n",
       "    </tr>\n",
       "  </tbody>\n",
       "</table>\n",
       "</div>"
      ],
      "text/plain": [
       "                            HomeGoals\n",
       "season    HomeTeam                   \n",
       "2008/2009 Arsenal                  31\n",
       "          Aston Villa              27\n",
       "          Blackburn Rovers         22\n",
       "          Bolton Wanderers         21"
      ]
     },
     "execution_count": 32,
     "metadata": {},
     "output_type": "execute_result"
    }
   ],
   "source": [
    "agg_prem_league.loc[(\"2008/2009\", \"Arsenal\"): (\"2008/2009\", \"Bolton Wanderers\")]"
   ]
  },
  {
   "cell_type": "code",
   "execution_count": 46,
   "id": "c16d23b5-cb84-4935-aa63-e11c07743114",
   "metadata": {},
   "outputs": [
    {
     "data": {
      "text/html": [
       "<div>\n",
       "<style scoped>\n",
       "    .dataframe tbody tr th:only-of-type {\n",
       "        vertical-align: middle;\n",
       "    }\n",
       "\n",
       "    .dataframe tbody tr th {\n",
       "        vertical-align: top;\n",
       "    }\n",
       "\n",
       "    .dataframe thead th {\n",
       "        text-align: right;\n",
       "    }\n",
       "</style>\n",
       "<table border=\"1\" class=\"dataframe\">\n",
       "  <thead>\n",
       "    <tr style=\"text-align: right;\">\n",
       "      <th></th>\n",
       "      <th></th>\n",
       "      <th>HomeGoals</th>\n",
       "    </tr>\n",
       "    <tr>\n",
       "      <th>season</th>\n",
       "      <th>HomeTeam</th>\n",
       "      <th></th>\n",
       "    </tr>\n",
       "  </thead>\n",
       "  <tbody>\n",
       "    <tr>\n",
       "      <th rowspan=\"4\" valign=\"top\">2008/2009</th>\n",
       "      <th>Arsenal</th>\n",
       "      <td>31</td>\n",
       "    </tr>\n",
       "    <tr>\n",
       "      <th>Aston Villa</th>\n",
       "      <td>27</td>\n",
       "    </tr>\n",
       "    <tr>\n",
       "      <th>Blackburn Rovers</th>\n",
       "      <td>22</td>\n",
       "    </tr>\n",
       "    <tr>\n",
       "      <th>Bolton Wanderers</th>\n",
       "      <td>21</td>\n",
       "    </tr>\n",
       "  </tbody>\n",
       "</table>\n",
       "</div>"
      ],
      "text/plain": [
       "                            HomeGoals\n",
       "season    HomeTeam                   \n",
       "2008/2009 Arsenal                  31\n",
       "          Aston Villa              27\n",
       "          Blackburn Rovers         22\n",
       "          Bolton Wanderers         21"
      ]
     },
     "execution_count": 46,
     "metadata": {},
     "output_type": "execute_result"
    }
   ],
   "source": [
    "agg_prem_league.iloc[:4]"
   ]
  },
  {
   "cell_type": "code",
   "execution_count": 50,
   "id": "3519f751-200f-47fb-9d2d-4f3aba7c5f93",
   "metadata": {},
   "outputs": [
    {
     "data": {
      "text/plain": [
       "HomeGoals    34\n",
       "Name: (2015/2016, West Ham United), dtype: int64"
      ]
     },
     "execution_count": 50,
     "metadata": {},
     "output_type": "execute_result"
    }
   ],
   "source": [
    "agg_prem_league.iloc[-1]"
   ]
  },
  {
   "cell_type": "code",
   "execution_count": 54,
   "id": "893536b7-a454-456c-b816-d36e4809d32a",
   "metadata": {},
   "outputs": [
    {
     "data": {
      "text/html": [
       "<div>\n",
       "<style scoped>\n",
       "    .dataframe tbody tr th:only-of-type {\n",
       "        vertical-align: middle;\n",
       "    }\n",
       "\n",
       "    .dataframe tbody tr th {\n",
       "        vertical-align: top;\n",
       "    }\n",
       "\n",
       "    .dataframe thead tr th {\n",
       "        text-align: left;\n",
       "    }\n",
       "\n",
       "    .dataframe thead tr:last-of-type th {\n",
       "        text-align: right;\n",
       "    }\n",
       "</style>\n",
       "<table border=\"1\" class=\"dataframe\">\n",
       "  <thead>\n",
       "    <tr>\n",
       "      <th></th>\n",
       "      <th></th>\n",
       "      <th colspan=\"2\" halign=\"left\">HomeGoals</th>\n",
       "    </tr>\n",
       "    <tr>\n",
       "      <th></th>\n",
       "      <th></th>\n",
       "      <th>sum</th>\n",
       "      <th>mean</th>\n",
       "    </tr>\n",
       "    <tr>\n",
       "      <th>season</th>\n",
       "      <th>HomeTeam</th>\n",
       "      <th></th>\n",
       "      <th></th>\n",
       "    </tr>\n",
       "  </thead>\n",
       "  <tbody>\n",
       "    <tr>\n",
       "      <th rowspan=\"5\" valign=\"top\">2008/2009</th>\n",
       "      <th>Arsenal</th>\n",
       "      <td>31</td>\n",
       "      <td>1.631579</td>\n",
       "    </tr>\n",
       "    <tr>\n",
       "      <th>Aston Villa</th>\n",
       "      <td>27</td>\n",
       "      <td>1.421053</td>\n",
       "    </tr>\n",
       "    <tr>\n",
       "      <th>Blackburn Rovers</th>\n",
       "      <td>22</td>\n",
       "      <td>1.157895</td>\n",
       "    </tr>\n",
       "    <tr>\n",
       "      <th>Bolton Wanderers</th>\n",
       "      <td>21</td>\n",
       "      <td>1.105263</td>\n",
       "    </tr>\n",
       "    <tr>\n",
       "      <th>Chelsea</th>\n",
       "      <td>33</td>\n",
       "      <td>1.736842</td>\n",
       "    </tr>\n",
       "  </tbody>\n",
       "</table>\n",
       "</div>"
      ],
      "text/plain": [
       "                           HomeGoals          \n",
       "                                 sum      mean\n",
       "season    HomeTeam                            \n",
       "2008/2009 Arsenal                 31  1.631579\n",
       "          Aston Villa             27  1.421053\n",
       "          Blackburn Rovers        22  1.157895\n",
       "          Bolton Wanderers        21  1.105263\n",
       "          Chelsea                 33  1.736842"
      ]
     },
     "execution_count": 54,
     "metadata": {},
     "output_type": "execute_result"
    }
   ],
   "source": [
    "agg_prem_league = premier_league.groupby([\"season\", \"HomeTeam\"]).agg({\"HomeGoals\": ['sum', 'mean']})\n",
    "\n",
    "agg_prem_league.head()"
   ]
  },
  {
   "cell_type": "code",
   "execution_count": 76,
   "id": "63852046-6d96-4470-bb80-d0493b8babda",
   "metadata": {},
   "outputs": [
    {
     "data": {
      "text/plain": [
       "HomeTeam\n",
       "Arsenal                    1.736842\n",
       "Aston Villa                1.368421\n",
       "Birmingham City            1.000000\n",
       "Blackburn Rovers           1.157895\n",
       "Blackpool                  1.578947\n",
       "Bolton Wanderers           1.789474\n",
       "Chelsea                    2.052632\n",
       "Everton                    1.631579\n",
       "Fulham                     1.578947\n",
       "Liverpool                  1.947368\n",
       "Manchester City            1.789474\n",
       "Manchester United          2.578947\n",
       "Newcastle United           2.157895\n",
       "Stoke City                 1.631579\n",
       "Sunderland                 1.315789\n",
       "Tottenham Hotspur          1.578947\n",
       "West Bromwich Albion       1.578947\n",
       "West Ham United            1.263158\n",
       "Wigan Athletic             1.157895\n",
       "Wolverhampton Wanderers    1.578947\n",
       "Name: (HomeGoals, mean), dtype: float64"
      ]
     },
     "execution_count": 76,
     "metadata": {},
     "output_type": "execute_result"
    }
   ],
   "source": [
    "agg_prem_league.loc[\"2010/2011\",(\"HomeGoals\",\"mean\")]"
   ]
  },
  {
   "cell_type": "code",
   "execution_count": 80,
   "id": "2db268c1-7eca-4390-8bb7-9df2d9db66eb",
   "metadata": {},
   "outputs": [
    {
     "data": {
      "text/plain": [
       "HomeTeam\n",
       "Arsenal                 1.631579\n",
       "Aston Villa             1.421053\n",
       "Blackburn Rovers        1.157895\n",
       "Bolton Wanderers        1.105263\n",
       "Chelsea                 1.736842\n",
       "Everton                 1.631579\n",
       "Fulham                  1.473684\n",
       "Hull City               0.947368\n",
       "Liverpool               2.157895\n",
       "Manchester City         2.105263\n",
       "Manchester United       2.263158\n",
       "Middlesbrough           0.894737\n",
       "Newcastle United        1.263158\n",
       "Portsmouth              1.368421\n",
       "Stoke City              1.157895\n",
       "Sunderland              1.105263\n",
       "Tottenham Hotspur       1.105263\n",
       "West Bromwich Albion    1.368421\n",
       "West Ham United         1.210526\n",
       "Wigan Athletic          0.894737\n",
       "Name: (HomeGoals, mean), dtype: float64"
      ]
     },
     "execution_count": 80,
     "metadata": {},
     "output_type": "execute_result"
    }
   ],
   "source": [
    "agg_prem_league.loc[\"2008/2009\",(\"HomeGoals\",\"mean\")]"
   ]
  }
 ],
 "metadata": {
  "kernelspec": {
   "display_name": "Python [conda env:base] *",
   "language": "python",
   "name": "conda-base-py"
  },
  "language_info": {
   "codemirror_mode": {
    "name": "ipython",
    "version": 3
   },
   "file_extension": ".py",
   "mimetype": "text/x-python",
   "name": "python",
   "nbconvert_exporter": "python",
   "pygments_lexer": "ipython3",
   "version": "3.12.7"
  }
 },
 "nbformat": 4,
 "nbformat_minor": 5
}
